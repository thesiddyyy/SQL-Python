{
 "cells": [
  {
   "cell_type": "code",
   "execution_count": 1,
   "id": "5e25b17e",
   "metadata": {},
   "outputs": [
    {
     "name": "stdout",
     "output_type": "stream",
     "text": [
      "Connection Established\n"
     ]
    }
   ],
   "source": [
    "import mysql.connector\n",
    "mydb=mysql.connector.connect(host='localhost',password='1234',user='root')\n",
    "\n",
    "if mydb.is_connected():\n",
    "    print(\"Connection Established\")"
   ]
  },
  {
   "cell_type": "code",
   "execution_count": 2,
   "id": "7b4f8831",
   "metadata": {},
   "outputs": [],
   "source": [
    "mycursor=mydb.cursor()"
   ]
  },
  {
   "cell_type": "code",
   "execution_count": 3,
   "id": "51f47014",
   "metadata": {},
   "outputs": [
    {
     "name": "stdout",
     "output_type": "stream",
     "text": [
      "('aaft',)\n",
      "('amity',)\n",
      "('asms',)\n",
      "('classical_model',)\n",
      "('db2',)\n",
      "('employees',)\n",
      "('information_schema',)\n",
      "('mysql',)\n",
      "('performance_schema',)\n",
      "('sods',)\n",
      "('sys',)\n",
      "('vehicle',)\n"
     ]
    }
   ],
   "source": [
    "mycursor.execute(\"show databases\")\n",
    "for db in mycursor:\n",
    "    print(db)"
   ]
  },
  {
   "cell_type": "code",
   "execution_count": 13,
   "id": "c9374756",
   "metadata": {},
   "outputs": [],
   "source": [
    "import mysql.connector\n",
    "mydb=mysql.connector.connect(host='localhost',password='1234',user='root')\n",
    "mycursor=mydb.cursor()\n",
    "mycursor.execute(\"create database departments\")"
   ]
  },
  {
   "cell_type": "code",
   "execution_count": 14,
   "id": "f41bc281",
   "metadata": {},
   "outputs": [],
   "source": [
    "import mysql.connector\n",
    "mydb=mysql.connector.connect(host='localhost',password='1234',user='root',database='departments')\n",
    "mycursor=mydb.cursor()\n",
    "a=\"CREATE TABLE dep1(depid int(4),Name varchar(20),salary int)\"\n",
    "mycursor.execute(a)"
   ]
  },
  {
   "cell_type": "code",
   "execution_count": 15,
   "id": "b5ca66f0",
   "metadata": {},
   "outputs": [
    {
     "name": "stdout",
     "output_type": "stream",
     "text": [
      "('dep1',)\n"
     ]
    }
   ],
   "source": [
    "import mysql.connector\n",
    "mydb=mysql.connector.connect(host='localhost',password='1234',user='root',database='departments')\n",
    "mycursor=mydb.cursor()\n",
    "mycursor.execute(\"show tables\")\n",
    "for db in mycursor:\n",
    "    print(db)"
   ]
  },
  {
   "cell_type": "code",
   "execution_count": 21,
   "id": "f7c7aa30",
   "metadata": {},
   "outputs": [],
   "source": [
    "import mysql.connector\n",
    "mydb=mysql.connector.connect(host='localhost',password='1234',user='root',database='departments')\n",
    "mycursor=mydb.cursor()\n",
    "s=\"INSERT INTO dep1(depid,Name,Salary) VALUES(%s,%s,%s)\"\n",
    "r1=(1,'swara',100000)\n",
    "mycursor.execute(s,r1)\n",
    "mydb.commit()"
   ]
  },
  {
   "cell_type": "code",
   "execution_count": 23,
   "id": "2b5dd947",
   "metadata": {},
   "outputs": [
    {
     "name": "stdout",
     "output_type": "stream",
     "text": [
      "(1, 'swara', 100000)\n"
     ]
    }
   ],
   "source": [
    "import mysql.connector\n",
    "mydb=mysql.connector.connect(host='localhost',password='1234',user='root',database='departments')\n",
    "mycursor=mydb.cursor()\n",
    "s=\"SELECT * from dep1\"\n",
    "mycursor.execute(s)\n",
    "result=mycursor.fetchall()\n",
    "for rec in result:\n",
    "    print(rec)"
   ]
  },
  {
   "cell_type": "code",
   "execution_count": 24,
   "id": "9b8ce488",
   "metadata": {},
   "outputs": [],
   "source": [
    "import mysql.connector\n",
    "mydb=mysql.connector.connect(host='localhost',password='1234',user='root',database='departments')\n",
    "mycursor=mydb.cursor()\n",
    "s1=\"INSERT INTO dep1(depid,Name,Salary) VALUES(%s,%s,%s)\"\n",
    "r2=(2,'siddharth',50000)\n",
    "mycursor.execute(s1,r2)\n",
    "mydb.commit()"
   ]
  },
  {
   "cell_type": "code",
   "execution_count": 25,
   "id": "415879ac",
   "metadata": {},
   "outputs": [
    {
     "name": "stdout",
     "output_type": "stream",
     "text": [
      "(1, 'swara', 100000)\n",
      "(2, 'siddharth', 50000)\n"
     ]
    }
   ],
   "source": [
    "import mysql.connector\n",
    "mydb=mysql.connector.connect(host='localhost',password='1234',user='root',database='departments')\n",
    "mycursor=mydb.cursor()\n",
    "s1=\"SELECT * from dep1\"\n",
    "mycursor.execute(s)\n",
    "result=mycursor.fetchall()\n",
    "for rec in result:\n",
    "    print(rec)"
   ]
  },
  {
   "cell_type": "code",
   "execution_count": 26,
   "id": "ac955afd",
   "metadata": {},
   "outputs": [],
   "source": [
    "import mysql.connector\n",
    "mydb=mysql.connector.connect(host='localhost',password='1234',user='root',database='departments')\n",
    "mycursor=mydb.cursor()\n",
    "s2=\"INSERT INTO dep1(depid,Name,Salary) VALUES(%s,%s,%s)\"\n",
    "r2=(3,'harshita',73000)\n",
    "mycursor.execute(s2,r2)\n",
    "mydb.commit()"
   ]
  },
  {
   "cell_type": "code",
   "execution_count": 27,
   "id": "51aa6304",
   "metadata": {},
   "outputs": [
    {
     "name": "stdout",
     "output_type": "stream",
     "text": [
      "(1, 'swara', 100000)\n",
      "(2, 'siddharth', 50000)\n",
      "(3, 'harshita', 73000)\n"
     ]
    }
   ],
   "source": [
    "import mysql.connector\n",
    "mydb=mysql.connector.connect(host='localhost',password='1234',user='root',database='departments')\n",
    "mycursor=mydb.cursor()\n",
    "s1=\"SELECT * from dep1\"\n",
    "mycursor.execute(s)\n",
    "result=mycursor.fetchall()\n",
    "for rec in result:\n",
    "    print(rec)"
   ]
  },
  {
   "cell_type": "code",
   "execution_count": 29,
   "id": "26d24626",
   "metadata": {},
   "outputs": [
    {
     "name": "stdout",
     "output_type": "stream",
     "text": [
      "1 Records affected\n"
     ]
    }
   ],
   "source": [
    "import mysql.connector\n",
    "mydb=mysql.connector.connect(host='localhost',password='1234',user='root',database='departments')\n",
    "mycursor=mydb.cursor()\n",
    "s= \"UPDATE dep1 SET salary=salary+1000 WHERE salary=100000\"\n",
    "mycursor.execute(s)\n",
    "mydb.commit()\n",
    "print(mycursor.rowcount,\"Records affected\")"
   ]
  },
  {
   "cell_type": "code",
   "execution_count": 34,
   "id": "a2eb3967",
   "metadata": {},
   "outputs": [
    {
     "name": "stdout",
     "output_type": "stream",
     "text": [
      "(1, 'swara', 101000)\n",
      "(2, 'siddharth', 50000)\n",
      "(3, 'harshita', 73000)\n"
     ]
    }
   ],
   "source": [
    "import mysql.connector\n",
    "mydb=mysql.connector.connect(host='localhost',password='1234',user='root',database='departments')\n",
    "mycursor=mydb.cursor()\n",
    "s3=\"SELECT * from dep1\"\n",
    "mycursor.execute(s3)\n",
    "result=mycursor.fetchall()\n",
    "for rec in result:\n",
    "    print(rec)"
   ]
  },
  {
   "cell_type": "code",
   "execution_count": 37,
   "id": "b131c606",
   "metadata": {},
   "outputs": [],
   "source": [
    "import mysql.connector\n",
    "mydb=mysql.connector.connect(host='localhost',password='1234',user='root',database='departments')\n",
    "mycursor=mydb.cursor()\n",
    "s3=\"INSERT INTO dep1(depid,Name,Salary) VALUES(4,'rishav',9000),(5,'satish',42000),(6,'raj',22000)\"\n",
    "mycursor.execute(s3)\n",
    "mydb.commit()"
   ]
  },
  {
   "cell_type": "code",
   "execution_count": 38,
   "id": "b24e6f40",
   "metadata": {},
   "outputs": [
    {
     "name": "stdout",
     "output_type": "stream",
     "text": [
      "(1, 'swara', 101000)\n",
      "(2, 'siddharth', 50000)\n",
      "(3, 'harshita', 73000)\n",
      "(4, 'rishav', 9000)\n",
      "(5, 'satish', 42000)\n",
      "(6, 'raj', 22000)\n"
     ]
    }
   ],
   "source": [
    "import mysql.connector\n",
    "mydb=mysql.connector.connect(host='localhost',password='1234',user='root',database='departments')\n",
    "mycursor=mydb.cursor()\n",
    "s3=\"SELECT * from dep1\"\n",
    "mycursor.execute(s3)\n",
    "result=mycursor.fetchall()\n",
    "for rec in result:\n",
    "    print(rec)"
   ]
  },
  {
   "cell_type": "code",
   "execution_count": null,
   "id": "52efc71d",
   "metadata": {},
   "outputs": [],
   "source": []
  }
 ],
 "metadata": {
  "kernelspec": {
   "display_name": "Python 3 (ipykernel)",
   "language": "python",
   "name": "python3"
  },
  "language_info": {
   "codemirror_mode": {
    "name": "ipython",
    "version": 3
   },
   "file_extension": ".py",
   "mimetype": "text/x-python",
   "name": "python",
   "nbconvert_exporter": "python",
   "pygments_lexer": "ipython3",
   "version": "3.11.4"
  }
 },
 "nbformat": 4,
 "nbformat_minor": 5
}
