{
  "cells": [
    {
      "cell_type": "code",
      "execution_count": null,
      "id": "4e2567c8",
      "metadata": {
        "id": "4e2567c8",
        "outputId": "37256ca6-17e7-4b5a-d304-7dca38f030dc"
      },
      "outputs": [
        {
          "name": "stdout",
          "output_type": "stream",
          "text": [
            "Defaulting to user installation because normal site-packages is not writeable\n",
            "Collecting mysql-connector-python\n",
            "  Downloading mysql_connector_python-8.0.32-cp39-cp39-win_amd64.whl (7.9 MB)\n",
            "Requirement already satisfied: protobuf<=3.20.3,>=3.11.0 in c:\\programdata\\anaconda3\\lib\\site-packages (from mysql-connector-python) (3.19.1)\n",
            "Installing collected packages: mysql-connector-python\n",
            "Successfully installed mysql-connector-python-8.0.32\n",
            "Note: you may need to restart the kernel to use updated packages.\n"
          ]
        }
      ],
      "source": [
        "pip install mysql-connector-python"
      ]
    },
    {
      "cell_type": "code",
      "execution_count": null,
      "id": "65e57221",
      "metadata": {
        "id": "65e57221",
        "outputId": "f1ecbc08-0b74-4184-8707-27207de54c83"
      },
      "outputs": [
        {
          "name": "stdout",
          "output_type": "stream",
          "text": [
            "Connection Established\n"
          ]
        }
      ],
      "source": [
        "import mysql.connector\n",
        "mydb=mysql.connector.connect(host='localhost',password='1234',user='root')\n",
        "\n",
        "if mydb.is_connected():\n",
        "   print(\"Connection Established\")\n"
      ]
    },
    {
      "cell_type": "code",
      "execution_count": null,
      "id": "d5b73b76",
      "metadata": {
        "id": "d5b73b76"
      },
      "outputs": [],
      "source": [
        "mycursor=mydb.cursor()"
      ]
    },
    {
      "cell_type": "code",
      "execution_count": null,
      "id": "05b8ba73",
      "metadata": {
        "id": "05b8ba73",
        "outputId": "042f3530-7b27-4c8d-ffa5-10bc3b2f25ae"
      },
      "outputs": [
        {
          "name": "stdout",
          "output_type": "stream",
          "text": [
            "('aaft',)\n",
            "('db1',)\n",
            "('information_schema',)\n",
            "('mysql',)\n",
            "('performance_schema',)\n",
            "('sods',)\n",
            "('sys',)\n"
          ]
        }
      ],
      "source": [
        "mycursor.execute(\"show databases\")\n",
        "for db in mycursor:\n",
        "    print(db)"
      ]
    }
  ],
  "metadata": {
    "kernelspec": {
      "display_name": "Python 3 (ipykernel)",
      "language": "python",
      "name": "python3"
    },
    "language_info": {
      "codemirror_mode": {
        "name": "ipython",
        "version": 3
      },
      "file_extension": ".py",
      "mimetype": "text/x-python",
      "name": "python",
      "nbconvert_exporter": "python",
      "pygments_lexer": "ipython3",
      "version": "3.9.12"
    },
    "colab": {
      "provenance": []
    }
  },
  "nbformat": 4,
  "nbformat_minor": 5
}