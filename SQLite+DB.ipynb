{
  "cells": [
    {
      "cell_type": "markdown",
      "id": "2042ccb5",
      "metadata": {
        "id": "2042ccb5"
      },
      "source": [
        "# SQLite DB"
      ]
    },
    {
      "cell_type": "code",
      "execution_count": null,
      "id": "2eb8c913",
      "metadata": {
        "id": "2eb8c913"
      },
      "outputs": [],
      "source": [
        "# !pip install sqlite3\n",
        "import sqlite3"
      ]
    },
    {
      "cell_type": "code",
      "execution_count": null,
      "id": "87429e78",
      "metadata": {
        "id": "87429e78"
      },
      "outputs": [],
      "source": [
        "# create a connection to the SQLite DB\n",
        "conn = sqlite3.connect('test.db')"
      ]
    },
    {
      "cell_type": "code",
      "execution_count": null,
      "id": "376bdaa1",
      "metadata": {
        "id": "376bdaa1"
      },
      "outputs": [],
      "source": [
        "# Create a cursor object to execute SQL Commands\n",
        "cursor = conn.cursor()"
      ]
    },
    {
      "cell_type": "code",
      "execution_count": null,
      "id": "e2547b46",
      "metadata": {
        "id": "e2547b46",
        "outputId": "22314b91-49b0-4981-b60f-4b396ec368de"
      },
      "outputs": [
        {
          "data": {
            "text/plain": [
              "<sqlite3.Cursor at 0x7faea038f840>"
            ]
          },
          "execution_count": 5,
          "metadata": {},
          "output_type": "execute_result"
        }
      ],
      "source": [
        "# Create a table\n",
        "cursor.execute(\n",
        "\"\"\"\n",
        "CREATE TABLE IF NOT EXISTS employees (\n",
        "    id INTEGER PRIMARY KEY,\n",
        "    name TEXT NOT NULL,\n",
        "    age INTEGER,\n",
        "    department TEXT\n",
        ")\n",
        "\"\"\"\n",
        ")"
      ]
    },
    {
      "cell_type": "code",
      "execution_count": null,
      "id": "f2bff0fe",
      "metadata": {
        "id": "f2bff0fe",
        "outputId": "a25b44a2-0a0a-4807-c0e3-9d73dabbdc41"
      },
      "outputs": [
        {
          "data": {
            "text/plain": [
              "<sqlite3.Cursor at 0x7faea038f840>"
            ]
          },
          "execution_count": 6,
          "metadata": {},
          "output_type": "execute_result"
        }
      ],
      "source": [
        "# Insert data into table\n",
        "cursor.execute(\n",
        "\"INSERT INTO employees (name, age, department) VALUES (?, ?, ?)\",\n",
        "    ('John Doe', 30, 'Sales')\n",
        "\n",
        ")"
      ]
    },
    {
      "cell_type": "code",
      "execution_count": null,
      "id": "45035aeb",
      "metadata": {
        "id": "45035aeb",
        "outputId": "b20a8c92-3365-44b5-b138-3434fa2b5d72"
      },
      "outputs": [
        {
          "data": {
            "text/plain": [
              "<sqlite3.Cursor at 0x7faea038f840>"
            ]
          },
          "execution_count": 12,
          "metadata": {},
          "output_type": "execute_result"
        }
      ],
      "source": [
        "# Retreive data\n",
        "\n",
        "cursor.execute(\"SELECT * FROM employees\")"
      ]
    },
    {
      "cell_type": "code",
      "execution_count": null,
      "id": "f35d9933",
      "metadata": {
        "id": "f35d9933"
      },
      "outputs": [],
      "source": [
        "rows = cursor.fetchall()"
      ]
    },
    {
      "cell_type": "code",
      "execution_count": null,
      "id": "1f80f4a7",
      "metadata": {
        "id": "1f80f4a7",
        "outputId": "99dc53a7-dc6d-4da8-a772-8419c0ce6160"
      },
      "outputs": [
        {
          "data": {
            "text/plain": [
              "[(1, 'John Doe', 30, 'Sales')]"
            ]
          },
          "execution_count": 14,
          "metadata": {},
          "output_type": "execute_result"
        }
      ],
      "source": [
        "rows"
      ]
    },
    {
      "cell_type": "code",
      "execution_count": null,
      "id": "6b00fbbd",
      "metadata": {
        "id": "6b00fbbd"
      },
      "outputs": [],
      "source": [
        "conn.commit()"
      ]
    },
    {
      "cell_type": "code",
      "execution_count": null,
      "id": "da8199f0",
      "metadata": {
        "id": "da8199f0"
      },
      "outputs": [],
      "source": [
        "conn.close()"
      ]
    },
    {
      "cell_type": "code",
      "execution_count": null,
      "id": "299f9ab5",
      "metadata": {
        "id": "299f9ab5"
      },
      "outputs": [],
      "source": []
    }
  ],
  "metadata": {
    "kernelspec": {
      "display_name": "Python 3 (ipykernel)",
      "language": "python",
      "name": "python3"
    },
    "language_info": {
      "codemirror_mode": {
        "name": "ipython",
        "version": 3
      },
      "file_extension": ".py",
      "mimetype": "text/x-python",
      "name": "python",
      "nbconvert_exporter": "python",
      "pygments_lexer": "ipython3",
      "version": "3.10.6"
    },
    "colab": {
      "provenance": []
    }
  },
  "nbformat": 4,
  "nbformat_minor": 5
}